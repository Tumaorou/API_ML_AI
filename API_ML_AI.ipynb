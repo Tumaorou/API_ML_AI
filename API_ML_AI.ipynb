{
 "cells": [
  {
   "cell_type": "code",
   "execution_count": null,
   "metadata": {
    "collapsed": true
   },
   "outputs": [],
   "source": [
    "import requests\n",
    "import json\n",
    "from pprint import pprint"
   ]
  },
  {
   "cell_type": "code",
   "execution_count": null,
   "metadata": {
    "scrolled": true
   },
   "outputs": [],
   "source": [
    "payload = {'key': '579621905', 's': '多少人曾爱慕你年轻时的容颜', 'limit': 5}\n",
    "\n",
    "r = requests.get('https://api.bzqll.com/music/netease/search', params=payload)\n",
    "pprint(r.json())"
   ]
  },
  {
   "cell_type": "code",
   "execution_count": null,
   "metadata": {
    "collapsed": true
   },
   "outputs": [],
   "source": [
    "def get_json(wd):\n",
    "    import requests\n",
    "    import json\n",
    "    payload = {'key': '579621905', 's': wd, 'limit': 5}\n",
    "    r = requests.get('https://api.bzqll.com/music/netease/search', params=payload)\n",
    "    return r.json()\n",
    "\n",
    "def get_url(song_json):\n",
    "    return 'https://api.bzqll.com/music/netease/url?key=579621905&br=128000'+'&id='+song_json['data'][0]['id']\n",
    "\n",
    "def download_song(url,song_json):\n",
    "    r = requests.get(url) \n",
    "    with open(\"song\\%s.mp3\"%song_json['data'][0]['name'], \"wb\") as code:\n",
    "        code.write(r.content)\n",
    "\n",
    "def get_song(song_json):\n",
    "    download_song(get_url(song_json),song_json)"
   ]
  },
  {
   "cell_type": "code",
   "execution_count": null,
   "metadata": {
    "collapsed": true
   },
   "outputs": [],
   "source": [
    "def play_song(song_name):\n",
    "    import pygame\n",
    "    \n",
    "    file='song\\%s.mp3'%song_name\n",
    "    pygame.mixer.init()\n",
    "    track = pygame.mixer.music.load(file)\n",
    "    pygame.mixer.music.play()\n",
    "    if input('输入 stop 停止音乐：')=='stop':\n",
    "        pygame.mixer.music.stop()"
   ]
  },
  {
   "cell_type": "code",
   "execution_count": null,
   "metadata": {
    "collapsed": true
   },
   "outputs": [],
   "source": [
    "def go_song(wd):\n",
    "    song_json = get_json(wd)\n",
    "    song_name = song_json['data'][0]['name']\n",
    "    \n",
    "    try:\n",
    "        play_song(song_name)\n",
    "    except:\n",
    "        print('正在加载请稍后..........')\n",
    "        try:\n",
    "            get_song(song_json)\n",
    "            print('加载完成,立刻播放')\n",
    "            play_song(song_name)\n",
    "        except:\n",
    "            print('加载失败')"
   ]
  },
  {
   "cell_type": "code",
   "execution_count": 11,
   "metadata": {
    "collapsed": true
   },
   "outputs": [],
   "source": [
    "def save_wave_file(filename,data):\n",
    "    '''save the date to the wavfile'''\n",
    "    wf=wave.open(filename,'wb')\n",
    "    wf.setnchannels(channels)#声道\n",
    "    wf.setsampwidth(sampwidth)#采样字节 1 or 2\n",
    "    wf.setframerate(framerate)#采样频率 8000 or 16000\n",
    "    wf.writeframes(b\"\".join(data))#https://stackoverflow.com/questions/32071536/typeerror-sequence-item-0-expected-str-instance-bytes-found\n",
    "    wf.close()\n",
    "\n",
    "def my_record():\n",
    "    pa=PyAudio()\n",
    "    stream=pa.open(format = paInt16,channels=1,\n",
    "                   rate=framerate,input=True,\n",
    "                   frames_per_buffer=NUM_SAMPLES)\n",
    "    my_buf=[]\n",
    "    count=0\n",
    "    while count<TIME:#控制录音时间\n",
    "        string_audio_data = stream.read(NUM_SAMPLES)#一次性录音采样字节大小\n",
    "        my_buf.append(string_audio_data)\n",
    "        count+=1\n",
    "        print('.')\n",
    "    save_wave_file('myrecord.wav',my_buf)\n",
    "    stream.close()"
   ]
  },
  {
   "cell_type": "code",
   "execution_count": 7,
   "metadata": {},
   "outputs": [
    {
     "name": "stdout",
     "output_type": "stream",
     "text": [
      ".\n",
      ".\n",
      ".\n",
      ".\n",
      ".\n",
      ".\n",
      ".\n",
      ".\n",
      ".\n",
      ".\n",
      ".\n",
      ".\n",
      ".\n",
      ".\n",
      ".\n",
      ".\n",
      ".\n",
      ".\n",
      ".\n",
      ".\n",
      ".\n",
      ".\n",
      ".\n",
      ".\n",
      ".\n",
      ".\n",
      ".\n",
      ".\n",
      ".\n",
      ".\n",
      ".\n",
      ".\n",
      ".\n",
      ".\n",
      ".\n",
      ".\n",
      ".\n",
      ".\n",
      ".\n",
      ".\n"
     ]
    }
   ],
   "source": [
    "from aip import AipSpeech\n",
    "from pyaudio import PyAudio,paInt16\n",
    "import wave\n",
    "\n",
    "APP_ID = '14979710'\n",
    "API_KEY = 'OTBqoD5PHpZzBjKDFHV3dOpw'\n",
    "SECRET_KEY = 'w8sGZCPhxxSb9ZiClxIlIL4Y5l1inprW'\n",
    "\n",
    "client = AipSpeech(APP_ID, API_KEY, SECRET_KEY)\n",
    "\n",
    "framerate=16000\n",
    "NUM_SAMPLES=2000\n",
    "channels=1\n",
    "sampwidth=2\n",
    "TIME=40\n",
    "my_record()"
   ]
  },
  {
   "cell_type": "code",
   "execution_count": 13,
   "metadata": {},
   "outputs": [],
   "source": [
    "# 读取文件\n",
    "def get_file_content(filePath):\n",
    "    with open(filePath, 'rb') as fp:\n",
    "        return fp.read()\n",
    "\n",
    "# 识别本地文件\n",
    "def get_result():\n",
    "    return client.asr(get_file_content('myrecord.wav'), 'wav', 16000, {'dev_pid': 1536,})['result']\n",
    "    \n",
    "def speech_recognition():\n",
    "    my_record()\n",
    "    print(get_result())\n",
    "    return get_result()"
   ]
  },
  {
   "cell_type": "code",
   "execution_count": 14,
   "metadata": {},
   "outputs": [
    {
     "name": "stdout",
     "output_type": "stream",
     "text": [
      ".\n",
      ".\n",
      ".\n",
      ".\n",
      ".\n",
      ".\n",
      ".\n",
      ".\n",
      ".\n",
      ".\n",
      ".\n",
      ".\n",
      ".\n",
      ".\n",
      ".\n",
      ".\n",
      ".\n",
      ".\n",
      ".\n",
      ".\n",
      ".\n",
      ".\n",
      ".\n",
      ".\n",
      ".\n",
      ".\n",
      ".\n",
      ".\n",
      ".\n",
      ".\n",
      ".\n",
      ".\n",
      ".\n",
      ".\n",
      ".\n",
      ".\n",
      ".\n",
      ".\n",
      ".\n",
      ".\n",
      "['视错觉是洒脱留给别人去说']\n"
     ]
    },
    {
     "data": {
      "text/plain": [
       "['视错觉是洒脱留给别人去说']"
      ]
     },
     "execution_count": 14,
     "metadata": {},
     "output_type": "execute_result"
    }
   ],
   "source": [
    "speech_recognition()"
   ]
  },
  {
   "cell_type": "code",
   "execution_count": null,
   "metadata": {
    "collapsed": true
   },
   "outputs": [],
   "source": []
  }
 ],
 "metadata": {
  "kernelspec": {
   "display_name": "Python 3",
   "language": "python",
   "name": "python3"
  },
  "language_info": {
   "codemirror_mode": {
    "name": "ipython",
    "version": 3
   },
   "file_extension": ".py",
   "mimetype": "text/x-python",
   "name": "python",
   "nbconvert_exporter": "python",
   "pygments_lexer": "ipython3",
   "version": "3.6.1"
  }
 },
 "nbformat": 4,
 "nbformat_minor": 2
}
