{
 "cells": [
  {
   "cell_type": "code",
   "execution_count": 7,
   "metadata": {},
   "outputs": [
    {
     "name": "stdout",
     "output_type": "stream",
     "text": [
      "pygame 1.9.4\n",
      "Hello from the pygame community. https://www.pygame.org/contribute.html\n"
     ]
    }
   ],
   "source": [
    "from aip import AipSpeech\n",
    "from pyaudio import PyAudio,paInt16\n",
    "import wave\n",
    "import pygame\n",
    "import requests\n",
    "import json\n",
    "import base64\n",
    "import time"
   ]
  },
  {
   "cell_type": "code",
   "execution_count": 43,
   "metadata": {
    "collapsed": true
   },
   "outputs": [],
   "source": [
    "# 用网易云API搜索和下载歌曲\n",
    "def search_song(wd):\n",
    "    payload = {'key': '网易云API_key', 's': wd, 'limit': 5}\n",
    "    r = requests.get('https://api.bzqll.com/music/netease/search', params=payload)\n",
    "    return r.json()\n",
    "\n",
    "def download_song(search_result):\n",
    "    url = 'https://api.bzqll.com/music/netease/url?key=579621905&br=128000'+'&id='+search_result['data'][0]['id']\n",
    "    r = requests.get(url) \n",
    "    with open(\"song\\%s.mp3\"%search_result['data'][0]['name'], \"wb\") as code:\n",
    "        code.write(r.content)"
   ]
  },
  {
   "cell_type": "code",
   "execution_count": 2,
   "metadata": {
    "collapsed": true
   },
   "outputs": [],
   "source": [
    "# 用pygame播放音乐\n",
    "def play_song(song_name):\n",
    "    file='song\\%s.mp3'%song_name\n",
    "    pygame.mixer.init()\n",
    "    track = pygame.mixer.music.load(file)\n",
    "    pygame.mixer.music.play()\n",
    "    if input('输入 stop 停止音乐：')=='stop':\n",
    "        pygame.mixer.music.stop()"
   ]
  },
  {
   "cell_type": "code",
   "execution_count": 22,
   "metadata": {
    "collapsed": true
   },
   "outputs": [],
   "source": [
    "# 用pyaudio录音\n",
    "def save_wave_file(filename,data):\n",
    "    '''save the date to the wavfile'''\n",
    "    channels=1\n",
    "    sampwidth=2\n",
    "    framerate=16000\n",
    "    wf=wave.open(filename,'wb')\n",
    "    wf.setnchannels(channels)#声道\n",
    "    wf.setsampwidth(sampwidth)#采样字节 1 or 2\n",
    "    wf.setframerate(framerate)#采样频率 8000 or 16000\n",
    "    wf.writeframes(b\"\".join(data))#https://stackoverflow.com/questions/32071536/typeerror-sequence-item-0-expected-str-instance-bytes-found\n",
    "    wf.close()\n",
    "\n",
    "def my_record():\n",
    "    framerate=16000\n",
    "    NUM_SAMPLES=2000\n",
    "    TIME=40\n",
    "    pa=PyAudio()\n",
    "    stream=pa.open(format = paInt16,channels=1,\n",
    "                   rate=framerate,input=True,\n",
    "                   frames_per_buffer=NUM_SAMPLES)\n",
    "    my_buf=[]\n",
    "    count=0\n",
    "    while count<TIME:#控制录音时间\n",
    "        string_audio_data = stream.read(NUM_SAMPLES)#一次性录音采样字节大小\n",
    "        my_buf.append(string_audio_data)\n",
    "        count+=1\n",
    "        print('.')\n",
    "    save_wave_file('myrecord.wav',my_buf)\n",
    "    stream.close()"
   ]
  },
  {
   "cell_type": "code",
   "execution_count": 4,
   "metadata": {
    "collapsed": true
   },
   "outputs": [],
   "source": [
    "# 百度语音识别APK（十分简洁）\n",
    "def speech_recognition(filePath):\n",
    "    APP_ID = '百度key'\n",
    "    API_KEY = '百度key'\n",
    "    SECRET_KEY = '百度SECRET_KEY'\n",
    "\n",
    "    client = AipSpeech(APP_ID, API_KEY, SECRET_KEY)\n",
    "    \n",
    "    with open(filePath, 'rb') as fp:\n",
    "        return client.asr(fp.read(), 'wav', 16000, {'dev_pid': 1536,})"
   ]
  },
  {
   "cell_type": "code",
   "execution_count": null,
   "metadata": {
    "collapsed": true
   },
   "outputs": [],
   "source": [
    "# 讯飞语音识别（很复杂，故放弃）\n",
    "\n",
    "#!/usr/bin/python\n",
    "# -*- coding: UTF-8 -*-\n",
    "#import urllib2\n",
    "import time\n",
    "import urllib\n",
    "import json\n",
    "import hashlib\n",
    "import base64\n",
    "import urllib.request\n",
    "import urllib.parse\n",
    " \n",
    "\n",
    "def speech_recognition():\n",
    "    f = open(\"myrecord.wav\", 'rb')  #rb表示二进制格式只读打开文件\n",
    "    file_content = f.read()\n",
    "    # file_content 是二进制内容，bytes类型\n",
    "    # 由于Python的字符串类型是str，在内存中以Unicode表示，一个字符对应若干个字节。\n",
    "    # 如果要在网络上传输，或者保存到磁盘上，就需要把str变为以字节为单位的bytes\n",
    "    # 以Unicode表示的str通过encode()方法可以编码为指定的bytes\n",
    "    base64_audio = base64.b64encode(file_content)   #base64.b64encode()参数是bytes类型，返回也是bytes类型\n",
    "    body = urllib.parse.urlencode({'audio': base64_audio})\n",
    " \n",
    "    url = 'http://api.xfyun.cn/v1/service/v1/iat'\n",
    "    api_key = '讯飞key'\n",
    "    param = {\"engine_type\": \"sms16k\", \"aue\": \"raw\"}\n",
    " \n",
    "    x_appid = '讯飞id'\n",
    "    x_param = base64.b64encode(json.dumps(param).replace(' ', '').encode('utf-8')) #改('''')\n",
    "    # 这是3.x的用法，因为3.x中字符都为unicode编码，而b64encode函数的参数为byte类型，\n",
    "    # 所以必须先转码为utf-8的bytes\n",
    "    x_param = str(x_param, 'utf-8')\n",
    " \n",
    "    x_time = int(int(round(time.time() * 1000)) / 1000)\n",
    "    x_checksum = hashlib.md5((api_key + str(x_time) + x_param).encode('utf-8')).hexdigest() #改\n",
    "    x_header = {'X-Appid': x_appid,\n",
    "                'X-CurTime': x_time,\n",
    "                'X-Param': x_param,\n",
    "                'X-CheckSum': x_checksum}\n",
    "    # 不要忘记url = ??, data = ??, headers = ??, method = ?? 中的“ = ”，这是python3\n",
    "    req = urllib.request.Request(url = url, data = body.encode('utf-8'), headers = x_header, method = 'POST')\n",
    "    result = urllib.request.urlopen(req)\n",
    "    result = result.read().decode('utf-8')\n",
    "    print(result)\n",
    "    return\n",
    " \n",
    "if __name__ == '__main__':\n",
    "    speech_recognition()"
   ]
  },
  {
   "cell_type": "code",
   "execution_count": 5,
   "metadata": {
    "collapsed": true
   },
   "outputs": [],
   "source": [
    "# 讯飞歌曲识别（只能找到讯飞的）\n",
    "def song_recognition(filePath):\n",
    "    url = 'http://webqbh.xfyun.cn/v1/service/v1/qbh'\n",
    "    api_key = '讯飞key'\n",
    "    param = {\"engine_type\": \"afs\", \"aue\": \"raw\", \"sample_rate\": \"16000\"}\n",
    " \n",
    "    x_appid = '讯飞id'\n",
    "    x_param = base64.b64encode(json.dumps(param).replace(' ', '').encode('utf-8'))\n",
    "\n",
    "    x_param = str(x_param, 'utf-8')\n",
    " \n",
    "    x_time = int(int(round(time.time() * 1000)) / 1000)\n",
    "    x_checksum = hashlib.md5((api_key + str(x_time) + x_param).encode('utf-8')).hexdigest()\n",
    "    x_header = {'X-Appid': x_appid,\n",
    "                'X-CurTime': str(x_time),\n",
    "                'X-Param': x_param,\n",
    "                'X-CheckSum': x_checksum}\n",
    "\n",
    "    with open(filePath, 'rb') as file:\n",
    "        r = requests.post(url = url, data = file.read(), headers = x_header)\n",
    "    return json.loads(r.content.decode('utf-8'))"
   ]
  },
  {
   "cell_type": "code",
   "execution_count": 44,
   "metadata": {},
   "outputs": [
    {
     "name": "stdout",
     "output_type": "stream",
     "text": [
      ".\n",
      ".\n",
      ".\n",
      ".\n",
      ".\n",
      ".\n",
      ".\n",
      ".\n",
      ".\n",
      ".\n",
      ".\n",
      ".\n",
      ".\n",
      ".\n",
      ".\n",
      ".\n",
      ".\n",
      ".\n",
      ".\n",
      ".\n",
      ".\n",
      ".\n",
      ".\n",
      ".\n",
      ".\n",
      ".\n",
      ".\n",
      ".\n",
      ".\n",
      ".\n",
      ".\n",
      ".\n",
      ".\n",
      ".\n",
      ".\n",
      ".\n",
      ".\n",
      ".\n",
      ".\n",
      ".\n",
      "正在播放薛之谦-演员\n",
      "输入 stop 停止音乐：stop\n"
     ]
    }
   ],
   "source": [
    "try:\n",
    "    my_record()\n",
    "    try:\n",
    "        recognition_result = speech_recognition(\"myrecord.wav\")['result'][0]\n",
    "        try:\n",
    "            search_result = search_song(recognition_result)\n",
    "            singer = search_result['data'][0]['singer']\n",
    "            song_name = search_result['data'][0]['name']\n",
    "            try:\n",
    "                with open('song\\{}.mp3'.format(song_name)) as file:\n",
    "                    file.close()\n",
    "                print('正在播放  '+ singer + '-' +song_name)\n",
    "                play_song(song_name)\n",
    "            except:\n",
    "                try:\n",
    "                    download_song(search_result)\n",
    "                    print('正在播放'  + singer + '-' +song_name)\n",
    "                    play_song(song_name)\n",
    "                except:\n",
    "                    print('找不到歌曲')\n",
    "        except:\n",
    "            print('语音搜索失败')\n",
    "    except:\n",
    "        try:\n",
    "            recognition_result = song_recognition(\"myrecord.wav\")\n",
    "            try:\n",
    "                search_result = search_song(recognition_result['data'][0]['song'])\n",
    "                singer = search_result['data'][0]['singer']\n",
    "                song_name = search_result['data'][0]['name']\n",
    "                try:\n",
    "                    with open('song\\{}.mp3'.format(song_name)) as file:\n",
    "                        file.close()\n",
    "                    print('正在播放  '+ singer + '-' +song_name)\n",
    "                    play_song(song_name)\n",
    "                except:\n",
    "                    try:\n",
    "                        download_song(search_result)\n",
    "                        print('正在播放'  + singer + '-' +song_name)\n",
    "                        play_song(song_name)\n",
    "                    except:\n",
    "                        print('找不到歌曲')\n",
    "            except:\n",
    "                print('曲调识曲失败')\n",
    "        except:\n",
    "            print('无法识别')\n",
    "except:\n",
    "    print('录音失败')"
   ]
  }
 ],
 "metadata": {
  "kernelspec": {
   "display_name": "Python 3",
   "language": "python",
   "name": "python3"
  },
  "language_info": {
   "codemirror_mode": {
    "name": "ipython",
    "version": 3
   },
   "file_extension": ".py",
   "mimetype": "text/x-python",
   "name": "python",
   "nbconvert_exporter": "python",
   "pygments_lexer": "ipython3",
   "version": "3.6.2"
  }
 },
 "nbformat": 4,
 "nbformat_minor": 2
}
